{
 "cells": [
  {
   "cell_type": "markdown",
   "id": "9c9e3f5a-4202-4c89-9210-df6c44855489",
   "metadata": {},
   "source": [
    "## Flavors of E-cigarattes\n",
    "### Kristen Shen"
   ]
  },
  {
   "cell_type": "code",
   "execution_count": null,
   "id": "065afc1e-877b-4b2c-bc68-f907d15d1c88",
   "metadata": {},
   "outputs": [],
   "source": [
    "#set up"
   ]
  },
  {
   "cell_type": "code",
   "execution_count": 5,
   "id": "9040079b-76a5-40eb-90c0-6ee08ff488eb",
   "metadata": {},
   "outputs": [
    {
     "name": "stdout",
     "output_type": "stream",
     "text": [
      "The rpy2.ipython extension is already loaded. To reload it, use:\n",
      "  %reload_ext rpy2.ipython\n",
      "The autoreload extension is already loaded. To reload it, use:\n",
      "  %reload_ext autoreload\n"
     ]
    }
   ],
   "source": [
    "%load_ext rpy2.ipython\n",
    "%load_ext autoreload\n",
    "%autoreload 2\n",
    "\n",
    "%matplotlib inline  \n",
    "from matplotlib import rcParams\n",
    "rcParams['figure.figsize'] = (16, 100)\n",
    "\n",
    "import warnings\n",
    "from rpy2.rinterface import RRuntimeWarning\n",
    "warnings.filterwarnings(\"ignore\") # Ignore all warnings\n",
    "# warnings.filterwarnings(\"ignore\", category=RRuntimeWarning) # Show some warnings\n",
    "\n",
    "import pandas as pd\n",
    "import numpy as np\n",
    "import matplotlib.pyplot as plt\n",
    "from IPython.display import display, HTML"
   ]
  },
  {
   "cell_type": "code",
   "execution_count": 6,
   "id": "5fd92ccb-4dd5-4eb9-9b65-ea7e17eaf2c8",
   "metadata": {},
   "outputs": [
    {
     "data": {
      "application/javascript": [
       "// Disable auto-scrolling\n",
       "IPython.OutputArea.prototype._should_scroll = function(lines) {\n",
       "    return false;\n",
       "}\n"
      ],
      "text/plain": [
       "<IPython.core.display.Javascript object>"
      ]
     },
     "metadata": {},
     "output_type": "display_data"
    }
   ],
   "source": [
    "%%javascript\n",
    "// Disable auto-scrolling\n",
    "IPython.OutputArea.prototype._should_scroll = function(lines) {\n",
    "    return false;\n",
    "}"
   ]
  },
  {
   "cell_type": "code",
   "execution_count": 7,
   "id": "21f69032-7c91-4df9-a84b-1ff9414161c0",
   "metadata": {},
   "outputs": [],
   "source": [
    "# import the file"
   ]
  },
  {
   "cell_type": "code",
   "execution_count": 24,
   "id": "fcff62f6-112f-4ec4-96af-7d2a7fdc430e",
   "metadata": {},
   "outputs": [
    {
     "data": {
      "text/html": [
       "<div>\n",
       "<style scoped>\n",
       "    .dataframe tbody tr th:only-of-type {\n",
       "        vertical-align: middle;\n",
       "    }\n",
       "\n",
       "    .dataframe tbody tr th {\n",
       "        vertical-align: top;\n",
       "    }\n",
       "\n",
       "    .dataframe thead th {\n",
       "        text-align: right;\n",
       "    }\n",
       "</style>\n",
       "<table border=\"1\" class=\"dataframe\">\n",
       "  <thead>\n",
       "    <tr style=\"text-align: right;\">\n",
       "      <th></th>\n",
       "      <th>year</th>\n",
       "      <th>flavor</th>\n",
       "      <th>weighted_percent</th>\n",
       "    </tr>\n",
       "  </thead>\n",
       "  <tbody>\n",
       "    <tr>\n",
       "      <th>0</th>\n",
       "      <td>2023</td>\n",
       "      <td>Tobacco-flavor</td>\n",
       "      <td>0.5</td>\n",
       "    </tr>\n",
       "    <tr>\n",
       "      <th>1</th>\n",
       "      <td>2023</td>\n",
       "      <td>Menthol</td>\n",
       "      <td>1.4</td>\n",
       "    </tr>\n",
       "    <tr>\n",
       "      <th>2</th>\n",
       "      <td>2023</td>\n",
       "      <td>Mint</td>\n",
       "      <td>2.0</td>\n",
       "    </tr>\n",
       "    <tr>\n",
       "      <th>3</th>\n",
       "      <td>2023</td>\n",
       "      <td>Spice</td>\n",
       "      <td>0.4</td>\n",
       "    </tr>\n",
       "    <tr>\n",
       "      <th>4</th>\n",
       "      <td>2023</td>\n",
       "      <td>Fruit</td>\n",
       "      <td>4.4</td>\n",
       "    </tr>\n",
       "  </tbody>\n",
       "</table>\n",
       "</div>"
      ],
      "text/plain": [
       "   year          flavor  weighted_percent\n",
       "0  2023  Tobacco-flavor               0.5\n",
       "1  2023         Menthol               1.4\n",
       "2  2023            Mint               2.0\n",
       "3  2023           Spice               0.4\n",
       "4  2023           Fruit               4.4"
      ]
     },
     "execution_count": 24,
     "metadata": {},
     "output_type": "execute_result"
    }
   ],
   "source": [
    "df = pd.read_csv('e-cigarette-data.csv')\n",
    "df.head()"
   ]
  },
  {
   "cell_type": "code",
   "execution_count": 8,
   "id": "47915692-c25e-4cc6-851f-87e93cf649c2",
   "metadata": {},
   "outputs": [
    {
     "data": {
      "text/plain": [
       "Loading required package: readr\n",
       "Loading required package: dplyr\n",
       "\n",
       "Attaching package: ‘dplyr’\n",
       "\n",
       "The following objects are masked from ‘package:stats’:\n",
       "\n",
       "    filter, lag\n",
       "\n",
       "The following objects are masked from ‘package:base’:\n",
       "\n",
       "    intersect, setdiff, setequal, union\n",
       "\n",
       "Loading required package: tidyr\n"
      ]
     },
     "metadata": {},
     "output_type": "display_data"
    }
   ],
   "source": [
    "%%R\n",
    "\n",
    "require('ggplot2')\n",
    "require('readr')\n",
    "require('dplyr')\n",
    "require('tidyr')"
   ]
  },
  {
   "cell_type": "code",
   "execution_count": 15,
   "id": "273e940e-1a5a-4aad-b42a-84c5bca657c4",
   "metadata": {},
   "outputs": [],
   "source": [
    "%%R\n",
    "require('ggrepel')"
   ]
  },
  {
   "cell_type": "code",
   "execution_count": 6,
   "id": "eaac9db1-2767-48b5-bc9c-9696bfd36d65",
   "metadata": {},
   "outputs": [
    {
     "name": "stdout",
     "output_type": "stream",
     "text": [
      "Rows: 31 Columns: 3\n",
      "── Column specification ────────────────────────────────────────────────────────\n",
      "Delimiter: \",\"\n",
      "chr (1): flavor\n",
      "dbl (2): year, weighted_percent\n",
      "\n",
      "ℹ Use `spec()` to retrieve the full column specification for this data.\n",
      "ℹ Specify the column types or set `show_col_types = FALSE` to quiet this message.\n",
      "# A tibble: 31 × 3\n",
      "    year flavor              weighted_percent\n",
      "   <dbl> <chr>                          <dbl>\n",
      " 1  2023 Tobacco-flavor                   0.5\n",
      " 2  2023 Menthol                          1.4\n",
      " 3  2023 Mint                             2  \n",
      " 4  2023 Spice                            0.4\n",
      " 5  2023 Fruit                            4.4\n",
      " 6  2023 Chocolate                        0.4\n",
      " 7  2023 Alcoholic drinks                 0.6\n",
      " 8  2023 Non-alcoholic drink              0.8\n",
      " 9  2023 Sweets                           2.4\n",
      "10  2023 Unflavored                       0.8\n",
      "# ℹ 21 more rows\n",
      "# ℹ Use `print(n = ...)` to see more rows\n"
     ]
    }
   ],
   "source": [
    "%%R\n",
    "\n",
    "# Read data\n",
    "df <- read_csv('e-cigarette-data.csv')\n",
    "df"
   ]
  },
  {
   "cell_type": "code",
   "execution_count": 17,
   "id": "0bf9c307-b5e8-42ca-94ee-c1664de32895",
   "metadata": {},
   "outputs": [
    {
     "data": {
      "image/png": "[encoded data removed]",
      "text/plain": [
       "<IPython.core.display.Image object>"
      ]
     },
     "metadata": {},
     "output_type": "display_data"
    }
   ],
   "source": [
    "%%R \n",
    "\n",
    "# see the trend of each flavor\n",
    "ggplot(df) +\n",
    "    aes(y= weighted_percent, x=year) +geom_point() + facet_wrap(~flavor)"
   ]
  },
  {
   "cell_type": "code",
   "execution_count": 25,
   "id": "ea0dc918-5dbc-4cf1-95ce-39c3fbd505d0",
   "metadata": {},
   "outputs": [
    {
     "data": {
      "text/plain": [
       "Index(['year', 'flavor', 'weighted_percent'], dtype='object')"
      ]
     },
     "execution_count": 25,
     "metadata": {},
     "output_type": "execute_result"
    }
   ],
   "source": [
    "df.columns"
   ]
  },
  {
   "cell_type": "code",
   "execution_count": 48,
   "id": "2c396800-08b9-4d07-b791-8a0c866b1642",
   "metadata": {},
   "outputs": [
    {
     "data": {
      "text/html": [
       "<div>\n",
       "<style scoped>\n",
       "    .dataframe tbody tr th:only-of-type {\n",
       "        vertical-align: middle;\n",
       "    }\n",
       "\n",
       "    .dataframe tbody tr th {\n",
       "        vertical-align: top;\n",
       "    }\n",
       "\n",
       "    .dataframe thead th {\n",
       "        text-align: right;\n",
       "    }\n",
       "</style>\n",
       "<table border=\"1\" class=\"dataframe\">\n",
       "  <thead>\n",
       "    <tr style=\"text-align: right;\">\n",
       "      <th></th>\n",
       "      <th>year</th>\n",
       "      <th>flavor</th>\n",
       "      <th>weighted_percent</th>\n",
       "    </tr>\n",
       "  </thead>\n",
       "  <tbody>\n",
       "    <tr>\n",
       "      <th>1</th>\n",
       "      <td>2023</td>\n",
       "      <td>Menthol</td>\n",
       "      <td>1.4</td>\n",
       "    </tr>\n",
       "    <tr>\n",
       "      <th>2</th>\n",
       "      <td>2023</td>\n",
       "      <td>Mint</td>\n",
       "      <td>2.0</td>\n",
       "    </tr>\n",
       "    <tr>\n",
       "      <th>3</th>\n",
       "      <td>2023</td>\n",
       "      <td>Spice</td>\n",
       "      <td>0.4</td>\n",
       "    </tr>\n",
       "    <tr>\n",
       "      <th>4</th>\n",
       "      <td>2023</td>\n",
       "      <td>Fruit</td>\n",
       "      <td>4.4</td>\n",
       "    </tr>\n",
       "    <tr>\n",
       "      <th>5</th>\n",
       "      <td>2023</td>\n",
       "      <td>Chocolate</td>\n",
       "      <td>0.4</td>\n",
       "    </tr>\n",
       "    <tr>\n",
       "      <th>6</th>\n",
       "      <td>2023</td>\n",
       "      <td>Alcoholic drinks</td>\n",
       "      <td>0.6</td>\n",
       "    </tr>\n",
       "    <tr>\n",
       "      <th>8</th>\n",
       "      <td>2023</td>\n",
       "      <td>Sweets</td>\n",
       "      <td>2.4</td>\n",
       "    </tr>\n",
       "    <tr>\n",
       "      <th>10</th>\n",
       "      <td>2022</td>\n",
       "      <td>Menthol</td>\n",
       "      <td>2.0</td>\n",
       "    </tr>\n",
       "    <tr>\n",
       "      <th>11</th>\n",
       "      <td>2022</td>\n",
       "      <td>Mint</td>\n",
       "      <td>2.3</td>\n",
       "    </tr>\n",
       "    <tr>\n",
       "      <th>12</th>\n",
       "      <td>2022</td>\n",
       "      <td>Spice</td>\n",
       "      <td>0.2</td>\n",
       "    </tr>\n",
       "    <tr>\n",
       "      <th>13</th>\n",
       "      <td>2022</td>\n",
       "      <td>Fruit</td>\n",
       "      <td>5.1</td>\n",
       "    </tr>\n",
       "    <tr>\n",
       "      <th>14</th>\n",
       "      <td>2022</td>\n",
       "      <td>Chocolate</td>\n",
       "      <td>0.3</td>\n",
       "    </tr>\n",
       "    <tr>\n",
       "      <th>15</th>\n",
       "      <td>2022</td>\n",
       "      <td>Alcoholic drinks</td>\n",
       "      <td>0.6</td>\n",
       "    </tr>\n",
       "    <tr>\n",
       "      <th>16</th>\n",
       "      <td>2022</td>\n",
       "      <td>Sweets</td>\n",
       "      <td>2.9</td>\n",
       "    </tr>\n",
       "    <tr>\n",
       "      <th>17</th>\n",
       "      <td>2021</td>\n",
       "      <td>Menthol</td>\n",
       "      <td>1.7</td>\n",
       "    </tr>\n",
       "    <tr>\n",
       "      <th>18</th>\n",
       "      <td>2021</td>\n",
       "      <td>Mint</td>\n",
       "      <td>1.8</td>\n",
       "    </tr>\n",
       "    <tr>\n",
       "      <th>19</th>\n",
       "      <td>2021</td>\n",
       "      <td>Spice</td>\n",
       "      <td>0.1</td>\n",
       "    </tr>\n",
       "    <tr>\n",
       "      <th>20</th>\n",
       "      <td>2021</td>\n",
       "      <td>Fruit</td>\n",
       "      <td>4.2</td>\n",
       "    </tr>\n",
       "    <tr>\n",
       "      <th>21</th>\n",
       "      <td>2021</td>\n",
       "      <td>Chocolate</td>\n",
       "      <td>0.2</td>\n",
       "    </tr>\n",
       "    <tr>\n",
       "      <th>22</th>\n",
       "      <td>2021</td>\n",
       "      <td>Alcoholic drinks</td>\n",
       "      <td>0.4</td>\n",
       "    </tr>\n",
       "    <tr>\n",
       "      <th>23</th>\n",
       "      <td>2021</td>\n",
       "      <td>Sweets</td>\n",
       "      <td>2.1</td>\n",
       "    </tr>\n",
       "    <tr>\n",
       "      <th>24</th>\n",
       "      <td>2020</td>\n",
       "      <td>Menthol</td>\n",
       "      <td>3.7</td>\n",
       "    </tr>\n",
       "    <tr>\n",
       "      <th>25</th>\n",
       "      <td>2020</td>\n",
       "      <td>Mint</td>\n",
       "      <td>5.7</td>\n",
       "    </tr>\n",
       "    <tr>\n",
       "      <th>26</th>\n",
       "      <td>2020</td>\n",
       "      <td>Spice</td>\n",
       "      <td>0.2</td>\n",
       "    </tr>\n",
       "    <tr>\n",
       "      <th>27</th>\n",
       "      <td>2020</td>\n",
       "      <td>Fruit</td>\n",
       "      <td>7.7</td>\n",
       "    </tr>\n",
       "    <tr>\n",
       "      <th>28</th>\n",
       "      <td>2020</td>\n",
       "      <td>Chocolate</td>\n",
       "      <td>0.5</td>\n",
       "    </tr>\n",
       "    <tr>\n",
       "      <th>29</th>\n",
       "      <td>2020</td>\n",
       "      <td>Alcoholic drinks</td>\n",
       "      <td>0.6</td>\n",
       "    </tr>\n",
       "    <tr>\n",
       "      <th>30</th>\n",
       "      <td>2020</td>\n",
       "      <td>Sweets</td>\n",
       "      <td>4.0</td>\n",
       "    </tr>\n",
       "  </tbody>\n",
       "</table>\n",
       "</div>"
      ],
      "text/plain": [
       "    year            flavor  weighted_percent\n",
       "1   2023           Menthol               1.4\n",
       "2   2023              Mint               2.0\n",
       "3   2023             Spice               0.4\n",
       "4   2023             Fruit               4.4\n",
       "5   2023         Chocolate               0.4\n",
       "6   2023  Alcoholic drinks               0.6\n",
       "8   2023            Sweets               2.4\n",
       "10  2022           Menthol               2.0\n",
       "11  2022              Mint               2.3\n",
       "12  2022            Spice                0.2\n",
       "13  2022             Fruit               5.1\n",
       "14  2022        Chocolate                0.3\n",
       "15  2022  Alcoholic drinks               0.6\n",
       "16  2022            Sweets               2.9\n",
       "17  2021           Menthol               1.7\n",
       "18  2021              Mint               1.8\n",
       "19  2021            Spice                0.1\n",
       "20  2021             Fruit               4.2\n",
       "21  2021        Chocolate                0.2\n",
       "22  2021  Alcoholic drinks               0.4\n",
       "23  2021            Sweets               2.1\n",
       "24  2020           Menthol               3.7\n",
       "25  2020              Mint               5.7\n",
       "26  2020            Spice                0.2\n",
       "27  2020             Fruit               7.7\n",
       "28  2020        Chocolate                0.5\n",
       "29  2020  Alcoholic drinks               0.6\n",
       "30  2020            Sweets               4.0"
      ]
     },
     "execution_count": 48,
     "metadata": {},
     "output_type": "execute_result"
    }
   ],
   "source": [
    "# remove flavors not mentioned pre-2023\n",
    "df_new = df[(df['flavor'] != 'Unflavored') & (df['flavor']!='Tobacco-flavor') & (df['flavor']!='Non-alcoholic drink')]\n",
    "df_new"
   ]
  },
  {
   "cell_type": "code",
   "execution_count": 49,
   "id": "8de2076b-27b5-4d27-8e5b-7f47d45f37ba",
   "metadata": {},
   "outputs": [],
   "source": [
    "# save the edited data in a new file\n",
    "df_new.to_csv('new_flavor.csv', index=False)"
   ]
  },
  {
   "cell_type": "code",
   "execution_count": 9,
   "id": "79578d6e-526f-428d-9532-05a6a0197810",
   "metadata": {},
   "outputs": [
    {
     "data": {
      "text/html": [
       "<div>\n",
       "<style scoped>\n",
       "    .dataframe tbody tr th:only-of-type {\n",
       "        vertical-align: middle;\n",
       "    }\n",
       "\n",
       "    .dataframe tbody tr th {\n",
       "        vertical-align: top;\n",
       "    }\n",
       "\n",
       "    .dataframe thead th {\n",
       "        text-align: right;\n",
       "    }\n",
       "</style>\n",
       "<table border=\"1\" class=\"dataframe\">\n",
       "  <thead>\n",
       "    <tr style=\"text-align: right;\">\n",
       "      <th></th>\n",
       "      <th>year</th>\n",
       "      <th>flavor</th>\n",
       "      <th>weighted_percent</th>\n",
       "    </tr>\n",
       "  </thead>\n",
       "  <tbody>\n",
       "    <tr>\n",
       "      <th>0</th>\n",
       "      <td>2023</td>\n",
       "      <td>Menthol</td>\n",
       "      <td>1.4</td>\n",
       "    </tr>\n",
       "    <tr>\n",
       "      <th>1</th>\n",
       "      <td>2023</td>\n",
       "      <td>Mint</td>\n",
       "      <td>2.0</td>\n",
       "    </tr>\n",
       "    <tr>\n",
       "      <th>2</th>\n",
       "      <td>2023</td>\n",
       "      <td>Spice</td>\n",
       "      <td>0.4</td>\n",
       "    </tr>\n",
       "    <tr>\n",
       "      <th>3</th>\n",
       "      <td>2023</td>\n",
       "      <td>Fruit</td>\n",
       "      <td>4.4</td>\n",
       "    </tr>\n",
       "    <tr>\n",
       "      <th>4</th>\n",
       "      <td>2023</td>\n",
       "      <td>Chocolate</td>\n",
       "      <td>0.4</td>\n",
       "    </tr>\n",
       "  </tbody>\n",
       "</table>\n",
       "</div>"
      ],
      "text/plain": [
       "   year     flavor  weighted_percent\n",
       "0  2023    Menthol               1.4\n",
       "1  2023       Mint               2.0\n",
       "2  2023      Spice               0.4\n",
       "3  2023      Fruit               4.4\n",
       "4  2023  Chocolate               0.4"
      ]
     },
     "execution_count": 9,
     "metadata": {},
     "output_type": "execute_result"
    }
   ],
   "source": [
    "df_new = pd.read_csv('new_flavor.csv')\n",
    "df_new.head()"
   ]
  },
  {
   "cell_type": "code",
   "execution_count": 10,
   "id": "c2607c07-958e-4a63-a22a-f7d68dd4c1e8",
   "metadata": {},
   "outputs": [
    {
     "name": "stdout",
     "output_type": "stream",
     "text": [
      "Rows: 28 Columns: 3\n",
      "── Column specification ────────────────────────────────────────────────────────\n",
      "Delimiter: \",\"\n",
      "chr (1): flavor\n",
      "dbl (2): year, weighted_percent\n",
      "\n",
      "ℹ Use `spec()` to retrieve the full column specification for this data.\n",
      "ℹ Specify the column types or set `show_col_types = FALSE` to quiet this message.\n",
      "# A tibble: 28 × 3\n",
      "    year flavor           weighted_percent\n",
      "   <dbl> <chr>                       <dbl>\n",
      " 1  2023 Menthol                       1.4\n",
      " 2  2023 Mint                          2  \n",
      " 3  2023 Spice                         0.4\n",
      " 4  2023 Fruit                         4.4\n",
      " 5  2023 Chocolate                     0.4\n",
      " 6  2023 Alcoholic drinks              0.6\n",
      " 7  2023 Sweets                        2.4\n",
      " 8  2022 Menthol                       2  \n",
      " 9  2022 Mint                          2.3\n",
      "10  2022 Spice                         0.2\n",
      "# ℹ 18 more rows\n",
      "# ℹ Use `print(n = ...)` to see more rows\n"
     ]
    }
   ],
   "source": [
    "%%R\n",
    "\n",
    "# Read data\n",
    "df_new <- read_csv('new_flavor.csv')\n",
    "df_new"
   ]
  },
  {
   "cell_type": "code",
   "execution_count": 37,
   "id": "eea871b2-c0c7-446a-9d19-b6bbec6105a0",
   "metadata": {},
   "outputs": [
    {
     "data": {
      "text/plain": [
       "\n",
       "Attaching package: ‘scales’\n",
       "\n",
       "The following object is masked from ‘package:readr’:\n",
       "\n",
       "    col_factor\n",
       "\n"
      ]
     },
     "metadata": {},
     "output_type": "display_data"
    }
   ],
   "source": [
    "%%R \n",
    "library(scales)"
   ]
  },
  {
   "cell_type": "code",
   "execution_count": 82,
   "id": "5581f487-5589-45b4-aeda-75012f6f38f2",
   "metadata": {},
   "outputs": [],
   "source": [
    "%%R -w 700 -h 500\n",
    "library(ggrepel)\n",
    "library(scales)\n",
    "\n",
    "# Customize colors\n",
    "custom_colors <- c(\"Menthol\" = \"deepskyblue\", \"Mint\" = \"aquamarine1\", \n",
    "                   \"Fruit\" = \"green\", \"Spice\" = \"orange\", \n",
    "                   \"Chocolate\" = \"deeppink4\", \"Alcoholic drinks\" = \"darkgrey\", \"Sweets\" = \"blueviolet\")\n",
    "\n",
    "final_plot <-ggplot(df_new, aes(x = year, y = weighted_percent, color = flavor, group = flavor)) +\n",
    "    geom_line(size = 1, alpha = 0.7) + \n",
    "    geom_point(size = 3) +            \n",
    "    scale_color_manual(values = custom_colors) +  \n",
    "    geom_text_repel(data = df_labels, aes(label = flavor), size = 4, fontface = \"bold\",\n",
    "                    box.padding = 0.5, point.padding = 0.3, force = 5) + \n",
    "    scale_x_continuous(limits = c(min(2020), max(2023) + 0.5)) +\n",
    "    scale_y_continuous(labels = scales::percent_format(scale = 1))+ \n",
    "    annotate(\"rect\", xmin = 2020, xmax = 2021, ymin = min(0, na.rm = TRUE), \n",
    "             ymax = max(df_new$weighted_percent+0.3, na.rm = TRUE), \n",
    "             fill = \"grey70\", alpha = 0.3, color = \"grey50\", linetype = \"dotted\") +\n",
    "    # Add text inside the rectangle\n",
    "    annotate(\"text\", x = 2020.5, y = max(df_new$weighted_percent, na.rm = TRUE) * 0.9, \n",
    "             label = \"FDA Enforcement Action\", size = 4.5, fontface = \"bold\", color = \"grey25\") +\n",
    "    labs(\n",
    "        title = \"Fruity e-cigarette remains trendy for teenagers\",\n",
    "        subtitle = \"The e-cigarette flavor U.S. middle and high school students prefer by percentage from 2020 to 2023 \",\n",
    "        color = \"Flavor\",\n",
    "        shape = \"Flavor\",\n",
    "        caption = \"\\nThe chart removes three flavors only mentioned in the 2023 survey: 'tobacco-flavor', 'non-alcoholic drink', and 'unflavored'.\\nThe chart doesn’t include the group of teenagers not consuming e-cigarettes.\n",
    "            \\nBy Kristen Shen\\nSource: National Youth Tabacco Survey\"\n",
    "            ) +\n",
    "        theme_minimal() +\n",
    "        theme(\n",
    "        plot.title = element_text(hjust = 0.5, size = 18, face = \"bold\"),\n",
    "        plot.subtitle = element_text(hjust = 0.5, size = 15, face = \"italic\", color = \"gray40\"),\n",
    "        plot.caption = element_text(hjust = 1, size = 12, color = \"grey42\"),\n",
    "        axis.text = element_text(size = 12),\n",
    "        axis.title = element_text(size = 14),\n",
    "        axis.title.x = element_blank(),  \n",
    "        axis.title.y = element_blank(), \n",
    "        plot.margin = margin(5, 5, 5, 5),\n",
    "        axis.ticks.length = unit(0.3, \"cm\"),\n",
    "        legend.position = \"none\"\n",
    "    )"
   ]
  },
  {
   "cell_type": "code",
   "execution_count": 83,
   "id": "ceee4b0f-d72f-4c6a-aa91-98dd2587014d",
   "metadata": {},
   "outputs": [
    {
     "name": "stdout",
     "output_type": "stream",
     "text": [
      "Saving 9.72 x 6.94 in image\n"
     ]
    }
   ],
   "source": [
    "%%R -w 700 -h 500\n",
    "# save the chart as an image\n",
    "ggsave(\n",
    "  \"my_chart_final.png\", plot = final_plot)"
   ]
  },
  {
   "cell_type": "code",
   "execution_count": 12,
   "id": "8409f633-263a-4b07-9011-2af2fd0cde21",
   "metadata": {},
   "outputs": [],
   "source": [
    "# make the graph with legend\n",
    "%%R -w 700 -h 500\n",
    "\n",
    "# Define custom colors\n",
    "custom_colors <- c(\"Menthol\" = \"deepskyblue\", \"Mint\" = \"aquamarine1\", \n",
    "                   \"Fruit\" = \"green\", \"Spice\" = \"orange\", \n",
    "                   \"Chocolate\" = \"deeppink4\", \"Alcoholic drinks\" = \"darkgrey\", \"Sweets\" = \"blueviolet\")\n",
    "\n",
    "flavor_plot <- ggplot(df_new, aes(x = year, y = weighted_percent, color = flavor, group = flavor, shape = flavor)) +\n",
    "    geom_line(size = 1, alpha = 0.7) +  \n",
    "    geom_point(size = 3) +  \n",
    "    scale_color_manual(values = custom_colors) +  \n",
    "    scale_shape_manual(values = c(16, 17, 18, 15, 8, 19, 13)) +  \n",
    "\n",
    "    # Fix x and y axis overlap\n",
    "    scale_x_continuous(limits = c(min(df_new$year), max(df_new$year) + 0.5), expand = expansion(mult = 0.05)) +\n",
    "    scale_y_continuous(limits = c(0, 8), expand = expansion(mult = 0.05)) +  \n",
    "\n",
    "    labs(\n",
    "        title = \"Fruity e-cigarette remains trendy for teenagers\",\n",
    "        subtitle = \"The flavor teenage e-cigaratte users choose by percentage from 2020 to 2023\",\n",
    "        x = \"Year\",\n",
    "        y = \"Weighted Percentage\",\n",
    "        color = \"Flavor\",\n",
    "        shape = \"Flavor\",\n",
    "        caption = \"By Kristen Shen\\nSource: National Youth Tabacco Survey\") +\n",
    "    theme_minimal() +\n",
    "    theme(\n",
    "        plot.title = element_text(hjust = 0.5, size = 18, face = \"bold\"),\n",
    "        plot.subtitle = element_text(hjust = 0.5, size = 15, face = \"italic\", color = \"gray40\"),\n",
    "        plot.caption = element_text(hjust = 1, size = 12, face = \"italic\", color = \"black\"),\n",
    "        axis.text = element_text(size = 12),\n",
    "        axis.title = element_text(size = 14),\n",
    "        legend.position = \"bottom\",\n",
    "        legend.text = element_text(size = 12),\n",
    "        legend.title = element_text(size = 14),\n",
    "        legend.key.size = unit(1.2, \"cm\"),  \n",
    "        plot.margin = margin(5, 5, 5, 5),\n",
    "        axis.ticks.length = unit(0.3, \"cm\") \n",
    "    )"
   ]
  },
  {
   "cell_type": "markdown",
   "id": "312b3573-d83f-4a13-abbc-cd6bf4d95ed2",
   "metadata": {},
   "source": [
    "### completed!!!"
   ]
  }
 ],
 "metadata": {
  "kernelspec": {
   "display_name": "Python 3 (ipykernel)",
   "language": "python",
   "name": "python3"
  },
  "language_info": {
   "codemirror_mode": {
    "name": "ipython",
    "version": 3
   },
   "file_extension": ".py",
   "mimetype": "text/x-python",
   "name": "python",
   "nbconvert_exporter": "python",
   "pygments_lexer": "ipython3",
   "version": "3.12.7"
  }
 },
 "nbformat": 4,
 "nbformat_minor": 5
}
